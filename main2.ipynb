{
 "cells": [
  {
   "cell_type": "code",
   "execution_count": 1,
   "metadata": {},
   "outputs": [],
   "source": [
    "import pandas as pd\n",
    "import numpy as np"
   ]
  },
  {
   "cell_type": "code",
   "execution_count": 2,
   "metadata": {},
   "outputs": [],
   "source": [
    "# Read mouse data for Emotional readings\n",
    "emo_MR = pd.read_csv('Group 12 Data/Emotional/MR.csv')\n",
    "emo_MP = pd.read_csv('Group 12 Data/Emotional/MP.csv')\n",
    "emo_MM = pd.read_csv('Group 12 Data/Emotional/Mouse_movement_emotional.csv')\n",
    "emo_MC = pd.read_csv('Group 12 Data/Emotional/MC.csv')"
   ]
  },
  {
   "cell_type": "code",
   "execution_count": 3,
   "metadata": {},
   "outputs": [],
   "source": [
    "# Read mouse data for Neutral readings\n",
    "neu_MR = pd.read_csv('Group 12 Data/Neutral/MR.csv')\n",
    "neu_MP = pd.read_csv('Group 12 Data/Neutral/MP.csv')\n",
    "neu_MM = pd.read_csv('Group 12 Data/Neutral/Mouse_movement_neutral.csv')\n",
    "neu_MC = pd.read_csv('Group 12 Data/Neutral/MC.csv')"
   ]
  },
  {
   "cell_type": "code",
   "execution_count": 14,
   "metadata": {},
   "outputs": [],
   "source": [
    "X_MME = emo_MM.iloc[: , 1:11].values\n",
    "Y = emo_MM.iloc[: , -1]"
   ]
  },
  {
   "cell_type": "code",
   "execution_count": 15,
   "metadata": {},
   "outputs": [
    {
     "data": {
      "text/plain": [
       "(177569, 10)"
      ]
     },
     "execution_count": 15,
     "metadata": {},
     "output_type": "execute_result"
    }
   ],
   "source": [
    "X.shape"
   ]
  },
  {
   "cell_type": "code",
   "execution_count": 16,
   "metadata": {},
   "outputs": [
    {
     "data": {
      "text/plain": [
       "(177569,)"
      ]
     },
     "execution_count": 16,
     "metadata": {},
     "output_type": "execute_result"
    }
   ],
   "source": [
    "Y.shape"
   ]
  },
  {
   "cell_type": "code",
   "execution_count": 17,
   "metadata": {},
   "outputs": [],
   "source": [
    "y_MME = le.fit_transform(Y)"
   ]
  },
  {
   "cell_type": "code",
   "execution_count": 20,
   "metadata": {},
   "outputs": [],
   "source": [
    "from sklearn.model_selection import train_test_split\n",
    "\n",
    "X_MME_train, X_MME_test, y_MME_train, y_MME_test = train_test_split(X_MME, y_MME, test_size=0.2, random_state=42)"
   ]
  },
  {
   "cell_type": "code",
   "execution_count": 22,
   "metadata": {},
   "outputs": [],
   "source": [
    "from sklearn.neural_network import MLPClassifier\n",
    "\n",
    "clf_E = MLPClassifier(hidden_layer_sizes=(4,4,5), max_iter=1000)"
   ]
  },
  {
   "cell_type": "code",
   "execution_count": 23,
   "metadata": {},
   "outputs": [
    {
     "data": {
      "text/plain": [
       "MLPClassifier(hidden_layer_sizes=(4, 4, 5), max_iter=1000)"
      ]
     },
     "execution_count": 23,
     "metadata": {},
     "output_type": "execute_result"
    }
   ],
   "source": [
    "clf_E.fit(X_MME_train,y_MME_train)"
   ]
  },
  {
   "cell_type": "code",
   "execution_count": 26,
   "metadata": {},
   "outputs": [
    {
     "name": "stdout",
     "output_type": "stream",
     "text": [
      "Accuracy for Emotional :0.34389254941713127\n"
     ]
    }
   ],
   "source": [
    "print(\"Accuracy for Emotional :\" + str(clf_E.score(X_MME_test,y_MME_test)))"
   ]
  },
  {
   "cell_type": "markdown",
   "metadata": {},
   "source": [
    "K fold cross validation"
   ]
  },
  {
   "cell_type": "code",
   "execution_count": 25,
   "metadata": {},
   "outputs": [
    {
     "data": {
      "text/plain": [
       "5"
      ]
     },
     "execution_count": 25,
     "metadata": {},
     "output_type": "execute_result"
    }
   ],
   "source": [
    "from sklearn.model_selection import StratifiedKFold\n",
    "\n",
    "skf = StratifiedKFold(n_splits=5, random_state=None)\n",
    "skf.get_n_splits( X_MME, y_MME)"
   ]
  },
  {
   "cell_type": "code",
   "execution_count": 27,
   "metadata": {},
   "outputs": [
    {
     "name": "stdout",
     "output_type": "stream",
     "text": [
      "[0.5288618572957143, 0.2695556681871938, 0.5382665990876837, 0.5465450244973813, 0.5431250527975671]\n"
     ]
    }
   ],
   "source": [
    "accuracy = []\n",
    "for train_index, test_index in skf.split( X_MME, y_MME):\n",
    "    X1_train, X1_test =  X_MME[train_index], X_MME[test_index]\n",
    "    Y1_train, Y1_test =  y_MME[train_index], y_MME[test_index]\n",
    "    \n",
    "    clf_E.fit(X1_train, Y1_train)\n",
    "    score = clf_E.score(X1_test, Y1_test)\n",
    "    accuracy.append(score)\n",
    "\n",
    "print(accuracy)\n",
    "    "
   ]
  },
  {
   "cell_type": "code",
   "execution_count": 28,
   "metadata": {},
   "outputs": [
    {
     "data": {
      "text/plain": [
       "0.485270840373108"
      ]
     },
     "execution_count": 28,
     "metadata": {},
     "output_type": "execute_result"
    }
   ],
   "source": [
    "np.array(accuracy).mean()"
   ]
  },
  {
   "cell_type": "code",
   "execution_count": null,
   "metadata": {},
   "outputs": [],
   "source": []
  },
  {
   "cell_type": "markdown",
   "metadata": {},
   "source": [
    "For Neutral mood"
   ]
  },
  {
   "cell_type": "code",
   "execution_count": null,
   "metadata": {},
   "outputs": [],
   "source": []
  },
  {
   "cell_type": "code",
   "execution_count": 29,
   "metadata": {},
   "outputs": [],
   "source": [
    "X_MMN = neu_MM.iloc[: , 1:11].values\n",
    "Y_MMN = neu_MM.iloc[: , -1]"
   ]
  },
  {
   "cell_type": "code",
   "execution_count": 30,
   "metadata": {},
   "outputs": [],
   "source": [
    "y_MMN = le.fit_transform(Y_MMN)"
   ]
  },
  {
   "cell_type": "code",
   "execution_count": 31,
   "metadata": {},
   "outputs": [],
   "source": [
    "X_MMN_train, X_MMN_test, y_MMN_train, y_MMN_test = train_test_split(X_MMN, y_MMN, test_size=0.2, random_state=42)"
   ]
  },
  {
   "cell_type": "code",
   "execution_count": 32,
   "metadata": {},
   "outputs": [
    {
     "data": {
      "text/plain": [
       "MLPClassifier(hidden_layer_sizes=(4, 4, 5), max_iter=1000)"
      ]
     },
     "execution_count": 32,
     "metadata": {},
     "output_type": "execute_result"
    }
   ],
   "source": [
    "clf_E.fit(X_MMN_train, y_MMN_train)"
   ]
  },
  {
   "cell_type": "code",
   "execution_count": 34,
   "metadata": {},
   "outputs": [
    {
     "name": "stdout",
     "output_type": "stream",
     "text": [
      "Accuracy for Neutral :0.5303208393191415\n"
     ]
    }
   ],
   "source": [
    "print(\"Accuracy for Neutral :\" + str(clf_E.score(X_MMN_test,y_MMN_test)))\n"
   ]
  },
  {
   "cell_type": "markdown",
   "metadata": {},
   "source": [
    "K Fold cross validation"
   ]
  },
  {
   "cell_type": "code",
   "execution_count": null,
   "metadata": {},
   "outputs": [],
   "source": []
  },
  {
   "cell_type": "code",
   "execution_count": 35,
   "metadata": {},
   "outputs": [
    {
     "data": {
      "text/plain": [
       "5"
      ]
     },
     "execution_count": 35,
     "metadata": {},
     "output_type": "execute_result"
    }
   ],
   "source": [
    "skf_N = StratifiedKFold(n_splits=5, random_state=None)\n",
    "skf_N.get_n_splits( X_MMN, y_MMN)"
   ]
  },
  {
   "cell_type": "code",
   "execution_count": 36,
   "metadata": {},
   "outputs": [
    {
     "name": "stdout",
     "output_type": "stream",
     "text": [
      "[0.527099386182578, 0.34552261547168167, 0.49997823342475295, 0.490727035263387, 0.5397474967348715]\n"
     ]
    }
   ],
   "source": [
    "accuracy_N = []\n",
    "for train_index, test_index in skf_N.split( X_MMN, y_MMN):\n",
    "    X1_train, X1_test =  X_MMN[train_index], X_MMN[test_index]\n",
    "    Y1_train, Y1_test =  y_MMN[train_index], y_MMN[test_index]\n",
    "    \n",
    "    clf_E.fit(X1_train, Y1_train)\n",
    "    score = clf_E.score(X1_test, Y1_test)\n",
    "    accuracy_N.append(score)\n",
    "\n",
    "print(accuracy_N)"
   ]
  },
  {
   "cell_type": "code",
   "execution_count": 38,
   "metadata": {},
   "outputs": [
    {
     "data": {
      "text/plain": [
       "0.48061495341545424"
      ]
     },
     "execution_count": 38,
     "metadata": {},
     "output_type": "execute_result"
    }
   ],
   "source": [
    "np.array(accuracy_N).mean()"
   ]
  },
  {
   "cell_type": "code",
   "execution_count": null,
   "metadata": {},
   "outputs": [],
   "source": []
  }
 ],
 "metadata": {
  "kernelspec": {
   "display_name": "Python 3",
   "language": "python",
   "name": "python3"
  },
  "language_info": {
   "codemirror_mode": {
    "name": "ipython",
    "version": 3
   },
   "file_extension": ".py",
   "mimetype": "text/x-python",
   "name": "python",
   "nbconvert_exporter": "python",
   "pygments_lexer": "ipython3",
   "version": "3.8.3"
  }
 },
 "nbformat": 4,
 "nbformat_minor": 4
}
